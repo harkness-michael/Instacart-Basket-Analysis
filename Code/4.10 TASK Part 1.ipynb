{
 "cells": [
  {
   "cell_type": "markdown",
   "id": "633c204a-94cc-4400-800a-0ee7939555f5",
   "metadata": {},
   "source": [
    "# 4.10 TASK PART 1"
   ]
  },
  {
   "cell_type": "markdown",
   "id": "6e3843cd-740d-499c-954a-b62bedbb17c8",
   "metadata": {},
   "source": [
    "### Included here:\n",
    "### Busiest Days of the week Bar chart\n",
    "### Busiest Hours of Day Bar chart\n",
    "### Times of day with Highest Spend\n",
    "### Price Range Groupings\n",
    "### Brand Loyalty"
   ]
  },
  {
   "cell_type": "code",
   "execution_count": 4,
   "id": "9a57894a-9bf3-4f4d-81b5-a5b894dc8c2e",
   "metadata": {},
   "outputs": [],
   "source": [
    "#importing libraries\n",
    "\n",
    "import pandas as pd\n",
    "import numpy as np\n",
    "import os\n",
    "import matplotlib.pyplot as plt\n",
    "import seaborn as sns\n",
    "import scipy"
   ]
  },
  {
   "cell_type": "code",
   "execution_count": 5,
   "id": "845c2cf4-1235-4644-9c9a-458968871138",
   "metadata": {},
   "outputs": [],
   "source": [
    "# establishing a path\n",
    "path = r'C:\\Users\\harkn\\OneDrive\\Desktop\\Tasks\\Data Immersion\\Instacart Basket Analysis'"
   ]
  },
  {
   "cell_type": "code",
   "execution_count": 6,
   "id": "6975b086-2a41-405e-9fda-c2a53804bc61",
   "metadata": {},
   "outputs": [],
   "source": [
    "# importing dataframes\n",
    "df = pd.read_pickle(os.path.join(path, '02 Data', 'Prepared Data', '4.10 filtered_profiled_data_avg.pkl'))"
   ]
  },
  {
   "cell_type": "code",
   "execution_count": 7,
   "id": "9f182ec7-994e-4188-af6f-8bef58714da8",
   "metadata": {},
   "outputs": [
    {
     "data": {
      "text/plain": [
       "(32401975, 35)"
      ]
     },
     "execution_count": 7,
     "metadata": {},
     "output_type": "execute_result"
    }
   ],
   "source": [
    "df.shape"
   ]
  },
  {
   "cell_type": "code",
   "execution_count": 8,
   "id": "8b56ea6b-5ade-4a72-9a00-7ec83e824d45",
   "metadata": {},
   "outputs": [
    {
     "data": {
      "text/plain": [
       "Index(['product_id', 'product_name', 'aisle_id', 'department_id', 'prices',\n",
       "       'department', 'order_id', 'user_id', 'order_number',\n",
       "       'orders_day_of_week', 'order_hour_of_day', 'days_since_prior_order',\n",
       "       'add_to_cart_order', 'reordered', '_merge', 'price_range_loc',\n",
       "       'busiest_day', 'busiest_days', 'busiest_period_of_day', 'max_order',\n",
       "       'loyalty_flag', 'spending_flag', 'order_frequency_flag', 'first_name',\n",
       "       'gender', 'state', 'age', 'date_joined', 'number_of_dependents',\n",
       "       'family_status', 'income', 'region', 'age_group', 'income_group',\n",
       "       'family_size'],\n",
       "      dtype='object')"
      ]
     },
     "execution_count": 8,
     "metadata": {},
     "output_type": "execute_result"
    }
   ],
   "source": [
    "df.columns"
   ]
  },
  {
   "cell_type": "markdown",
   "id": "d84bbcdf-cbf9-4c80-af4c-ab5ddd9810f7",
   "metadata": {},
   "source": [
    "### Creating a bar chart for busiest days of the week"
   ]
  },
  {
   "cell_type": "code",
   "execution_count": 10,
   "id": "998851d1-45dd-4e6b-bae9-afc76882b648",
   "metadata": {},
   "outputs": [],
   "source": [
    "# Define a mapping from numerical values to day names\n",
    "day_mapping = {0: 'Saturday',\n",
    "    1: 'Sunday',\n",
    "    2: 'Monday',\n",
    "    3: 'Tuesday',\n",
    "    4: 'Wednesday',\n",
    "    5: 'Thursday',\n",
    "    6: 'Friday'}"
   ]
  },
  {
   "cell_type": "code",
   "execution_count": 11,
   "id": "d6fbd524-6cfa-4cec-9034-efe658fb7925",
   "metadata": {},
   "outputs": [],
   "source": [
    "# Create the 'day_of_week' column using the mapping\n",
    "df['day_of_week'] = df['orders_day_of_week'].map(day_mapping)"
   ]
  },
  {
   "cell_type": "code",
   "execution_count": 12,
   "id": "e237fcf1-50b0-4d9f-b5f5-a4ef17753e4a",
   "metadata": {},
   "outputs": [
    {
     "data": {
      "text/html": [
       "<div>\n",
       "<style scoped>\n",
       "    .dataframe tbody tr th:only-of-type {\n",
       "        vertical-align: middle;\n",
       "    }\n",
       "\n",
       "    .dataframe tbody tr th {\n",
       "        vertical-align: top;\n",
       "    }\n",
       "\n",
       "    .dataframe thead th {\n",
       "        text-align: right;\n",
       "    }\n",
       "</style>\n",
       "<table border=\"1\" class=\"dataframe\">\n",
       "  <thead>\n",
       "    <tr style=\"text-align: right;\">\n",
       "      <th></th>\n",
       "      <th>orders_day_of_week</th>\n",
       "      <th>day_of_week</th>\n",
       "    </tr>\n",
       "  </thead>\n",
       "  <tbody>\n",
       "    <tr>\n",
       "      <th>0</th>\n",
       "      <td>6</td>\n",
       "      <td>Friday</td>\n",
       "    </tr>\n",
       "    <tr>\n",
       "      <th>1</th>\n",
       "      <td>6</td>\n",
       "      <td>Friday</td>\n",
       "    </tr>\n",
       "    <tr>\n",
       "      <th>2</th>\n",
       "      <td>0</td>\n",
       "      <td>Saturday</td>\n",
       "    </tr>\n",
       "    <tr>\n",
       "      <th>3</th>\n",
       "      <td>3</td>\n",
       "      <td>Tuesday</td>\n",
       "    </tr>\n",
       "    <tr>\n",
       "      <th>4</th>\n",
       "      <td>4</td>\n",
       "      <td>Wednesday</td>\n",
       "    </tr>\n",
       "  </tbody>\n",
       "</table>\n",
       "</div>"
      ],
      "text/plain": [
       "   orders_day_of_week day_of_week\n",
       "0                   6      Friday\n",
       "1                   6      Friday\n",
       "2                   0    Saturday\n",
       "3                   3     Tuesday\n",
       "4                   4   Wednesday"
      ]
     },
     "execution_count": 12,
     "metadata": {},
     "output_type": "execute_result"
    }
   ],
   "source": [
    "df[['orders_day_of_week', 'day_of_week']].head()"
   ]
  },
  {
   "cell_type": "code",
   "execution_count": null,
   "id": "d84ed88b-539d-40e1-bbf8-db0f362fac34",
   "metadata": {},
   "outputs": [],
   "source": []
  },
  {
   "cell_type": "code",
   "execution_count": null,
   "id": "6096ad2d-2434-4540-8ff9-08be871bf4b7",
   "metadata": {},
   "outputs": [],
   "source": []
  },
  {
   "cell_type": "code",
   "execution_count": null,
   "id": "ac4cf382-731c-40e3-9058-6a1a44503d1d",
   "metadata": {},
   "outputs": [],
   "source": []
  },
  {
   "cell_type": "code",
   "execution_count": 13,
   "id": "984f84c0-0b19-4786-a9f9-3cc9cab7ef2c",
   "metadata": {},
   "outputs": [
    {
     "data": {
      "text/plain": [
       "Text(0.5, 1.0, 'Busiest Days of the Week')"
      ]
     },
     "execution_count": 13,
     "metadata": {},
     "output_type": "execute_result"
    },
    {
     "data": {
      "image/png": "[encoded data removed]",
      "text/plain": [
       "<Figure size 640x480 with 1 Axes>"
      ]
     },
     "metadata": {},
     "output_type": "display_data"
    }
   ],
   "source": [
    "#indexing by hour of day and adding title\n",
    "bar_day_of_week = df['day_of_week'].value_counts().sort_index().plot.bar()\n",
    "plt.title('Busiest Days of the Week')"
   ]
  },
  {
   "cell_type": "code",
   "execution_count": 14,
   "id": "ae30bce0-dd51-48ce-98d7-b5259b3a8a5e",
   "metadata": {},
   "outputs": [],
   "source": [
    "#saving image\n",
    "bar_day_of_week.figure.savefig(os.path.join(path, '04 Analysis','Visualizations', 'bar_day_of_week.png'))"
   ]
  },
  {
   "cell_type": "markdown",
   "id": "1b4c7569-3f97-4d22-8aa9-9faf2b1a6163",
   "metadata": {},
   "source": [
    "### Creating a bar chart for busiest hour of the day"
   ]
  },
  {
   "cell_type": "code",
   "execution_count": 16,
   "id": "cce89dcc-5df3-4404-98e5-ee2e9e6f59eb",
   "metadata": {},
   "outputs": [
    {
     "data": {
      "image/png": "[encoded data removed]",
      "text/plain": [
       "<Figure size 640x480 with 1 Axes>"
      ]
     },
     "metadata": {},
     "output_type": "display_data"
    }
   ],
   "source": [
    "#plotting bar chart\n",
    "bar_busiest_times_of_day = df['order_hour_of_day'].value_counts().plot.bar()"
   ]
  },
  {
   "cell_type": "code",
   "execution_count": 17,
   "id": "5eaaa341-6b08-44d4-b885-c234cd15a95c",
   "metadata": {},
   "outputs": [],
   "source": [
    "#saving image\n",
    "bar_busiest_times_of_day.figure.savefig(os.path.join(path, '04 Analysis','Visualizations', 'bar_busiest_times_of_day.png'))"
   ]
  },
  {
   "cell_type": "markdown",
   "id": "8714e6af-8592-44b0-b656-2f067e5cf604",
   "metadata": {},
   "source": [
    "### Busiest hours of the day"
   ]
  },
  {
   "cell_type": "code",
   "execution_count": 19,
   "id": "85035de0-a9af-4892-9a80-4f4a036d3a31",
   "metadata": {},
   "outputs": [
    {
     "data": {
      "text/plain": [
       "Text(0.5, 1.0, 'Busiest Hours of the Day')"
      ]
     },
     "execution_count": 19,
     "metadata": {},
     "output_type": "execute_result"
    },
    {
     "data": {
      "image/png": "[encoded data removed]",
      "text/plain": [
       "<Figure size 640x480 with 1 Axes>"
      ]
     },
     "metadata": {},
     "output_type": "display_data"
    }
   ],
   "source": [
    "#indexing by hour of day\n",
    "bar_hour_of_day = df['order_hour_of_day'].value_counts().sort_index().plot.bar()\n",
    "plt.title('Busiest Hours of the Day')"
   ]
  },
  {
   "cell_type": "code",
   "execution_count": 20,
   "id": "55efde79-be59-41b6-a193-f8b7bba72277",
   "metadata": {},
   "outputs": [],
   "source": [
    "#saving image\n",
    "bar_hour_of_day.figure.savefig(os.path.join(path, '04 Analysis','Visualizations', 'bar_hour_of_day.png'))"
   ]
  },
  {
   "cell_type": "markdown",
   "id": "7f70028a-b747-4c8f-9199-692d1731bcf7",
   "metadata": {},
   "source": [
    "### Price Range Groupings"
   ]
  },
  {
   "cell_type": "code",
   "execution_count": 22,
   "id": "e0482bb3-7225-4a8e-8e77-a1274f20149b",
   "metadata": {},
   "outputs": [],
   "source": [
    "# Round the 'prices' column to the nearest dollar\n",
    "df['prices_rounded'] = df['prices'].round()"
   ]
  },
  {
   "cell_type": "code",
   "execution_count": 23,
   "id": "178ebf0a-055b-46eb-9f4a-6fe55cab7016",
   "metadata": {},
   "outputs": [
    {
     "name": "stdout",
     "output_type": "stream",
     "text": [
      "prices_rounded\n",
      "1.0     1431908\n",
      "2.0     2481928\n",
      "3.0     1987521\n",
      "4.0     3120970\n",
      "5.0     2070159\n",
      "6.0     2750694\n",
      "7.0     2544451\n",
      "8.0     2448233\n",
      "9.0     2055854\n",
      "10.0    2181147\n",
      "11.0    1733355\n",
      "12.0    2402055\n",
      "13.0    1733801\n",
      "14.0    2180582\n",
      "15.0     873253\n",
      "16.0      24496\n",
      "17.0      32176\n",
      "18.0      33163\n",
      "19.0      42523\n",
      "20.0      51772\n",
      "21.0      51259\n",
      "22.0      43450\n",
      "23.0      39776\n",
      "24.0      53119\n",
      "25.0      29204\n",
      "Name: count, dtype: int64\n"
     ]
    }
   ],
   "source": [
    "# Count the occurrences of each dollar value\n",
    "price_counts = df['prices_rounded'].value_counts().sort_index()\n",
    "print(price_counts)"
   ]
  },
  {
   "cell_type": "code",
   "execution_count": 24,
   "id": "d88e83f5-bf05-47a6-8cd2-1100c2251b3d",
   "metadata": {},
   "outputs": [],
   "source": [
    "# Define the bin edges\n",
    "bins = [0, 5, 10, 15, 20, 30]\n",
    "bin_labels = ['$0-5', '$5-10', '$10-15', '$15-20', '$20+']"
   ]
  },
  {
   "cell_type": "code",
   "execution_count": 25,
   "id": "1cd293e8-bb50-4d2c-bed3-2f376f249a26",
   "metadata": {},
   "outputs": [],
   "source": [
    "# Assign each price to a bin\n",
    "df['price_bins'] = pd.cut(df['prices_rounded'], bins=bins, labels=bin_labels, include_lowest=True)"
   ]
  },
  {
   "cell_type": "code",
   "execution_count": 26,
   "id": "df5012db-5497-4de5-ab6c-0af352964861",
   "metadata": {},
   "outputs": [
    {
     "name": "stdout",
     "output_type": "stream",
     "text": [
      "price_bins\n",
      "$0-5      11092486\n",
      "$5-10     11980379\n",
      "$10-15     8923046\n",
      "$15-20      184130\n",
      "$20+        216808\n",
      "Name: count, dtype: int64\n"
     ]
    }
   ],
   "source": [
    "# Count occurrences within each bin\n",
    "price_bin_counts = df['price_bins'].value_counts().sort_index()\n",
    "print(price_bin_counts)"
   ]
  },
  {
   "cell_type": "code",
   "execution_count": 27,
   "id": "5e8b1b31-8014-4e56-bef5-4c8e8ce64426",
   "metadata": {},
   "outputs": [],
   "source": [
    "# Plot the distribution of prices across bins\n",
    "plt.figure(figsize=(10, 6))\n",
    "price_bin_counts.plot(kind='bar', color='skyblue')\n",
    "plt.title('Distribution of Prices by Bins')\n",
    "plt.xlabel('Price Bins')\n",
    "plt.ylabel('Count of Orders')\n",
    "plt.xticks(rotation=0)\n",
    "# Save the plot as a PNG file\n",
    "price_bins_plot_path = os.path.join(path, '04 Analysis', 'Visualizations', 'price_bins_distribution.png')\n",
    "plt.savefig(price_bins_plot_path, bbox_inches='tight')\n",
    "plt.close()"
   ]
  },
  {
   "cell_type": "code",
   "execution_count": 28,
   "id": "fc87528d-d6cd-4430-8fdf-f7b253ad8a81",
   "metadata": {},
   "outputs": [],
   "source": [
    "# Save the plot as a PNG file\n",
    "price_bins_plot_path = os.path.join(path, '04 Analysis', 'Visualizations', 'price_bins_distribution.png')\n",
    "plt.savefig(price_bins_plot_path, bbox_inches='tight')\n",
    "plt.close()"
   ]
  },
  {
   "cell_type": "markdown",
   "id": "4091ef35-429e-43fb-b7ec-72ba0beacc35",
   "metadata": {},
   "source": [
    "### Pie chart for price bins"
   ]
  },
  {
   "cell_type": "code",
   "execution_count": 30,
   "id": "ce0aba19-1177-4e85-b03e-1b361a1f82a0",
   "metadata": {},
   "outputs": [],
   "source": [
    "#round to nearest dollar, value count, price bins"
   ]
  },
  {
   "cell_type": "code",
   "execution_count": 31,
   "id": "35fa02b5-10ee-4fe4-9151-3f83cb789a08",
   "metadata": {},
   "outputs": [
    {
     "data": {
      "text/plain": [
       "count    3.239685e+07\n",
       "mean     7.791044e+00\n",
       "std      4.088546e+00\n",
       "min      1.000000e+00\n",
       "25%      4.200000e+00\n",
       "50%      7.400000e+00\n",
       "75%      1.130000e+01\n",
       "max      2.500000e+01\n",
       "Name: prices, dtype: float64"
      ]
     },
     "execution_count": 31,
     "metadata": {},
     "output_type": "execute_result"
    }
   ],
   "source": [
    "df['prices'].describe()"
   ]
  },
  {
   "cell_type": "code",
   "execution_count": 32,
   "id": "2fbee618-5645-42b8-a6be-c8746253d004",
   "metadata": {},
   "outputs": [],
   "source": [
    "# Round the prices to the nearest dollar\n",
    "df['rounded_prices'] = df['prices'].round()"
   ]
  },
  {
   "cell_type": "code",
   "execution_count": 33,
   "id": "8bd60eb2-b277-466e-af0e-079123917b07",
   "metadata": {},
   "outputs": [
    {
     "data": {
      "text/plain": [
       "rounded_prices\n",
       "1.0     1431908\n",
       "2.0     2481928\n",
       "3.0     1987521\n",
       "4.0     3120970\n",
       "5.0     2070159\n",
       "6.0     2750694\n",
       "7.0     2544451\n",
       "8.0     2448233\n",
       "9.0     2055854\n",
       "10.0    2181147\n",
       "11.0    1733355\n",
       "12.0    2402055\n",
       "13.0    1733801\n",
       "14.0    2180582\n",
       "15.0     873253\n",
       "16.0      24496\n",
       "17.0      32176\n",
       "18.0      33163\n",
       "19.0      42523\n",
       "20.0      51772\n",
       "21.0      51259\n",
       "22.0      43450\n",
       "23.0      39776\n",
       "24.0      53119\n",
       "25.0      29204\n",
       "Name: count, dtype: int64"
      ]
     },
     "execution_count": 33,
     "metadata": {},
     "output_type": "execute_result"
    }
   ],
   "source": [
    "# Get value counts of the rounded prices\n",
    "df['rounded_prices'].value_counts().sort_index()"
   ]
  },
  {
   "cell_type": "code",
   "execution_count": 34,
   "id": "45027316-cb0d-4ea1-8521-3d9db7161f13",
   "metadata": {},
   "outputs": [],
   "source": [
    "# Define bins and labels\n",
    "bins = [1, 6, 12, 18, 25]\n",
    "labels = ['Low - $1-6', 'Medium - $6-12', 'High - $12-18', 'Very High - $18-25']"
   ]
  },
  {
   "cell_type": "code",
   "execution_count": 35,
   "id": "0306662f-6224-4cb0-a778-d56f57212486",
   "metadata": {},
   "outputs": [],
   "source": [
    "# Create the 'price_group' column by binning the rounded prices\n",
    "df['price_group'] = pd.cut(df['rounded_prices'], bins=bins, labels=labels, include_lowest=True)"
   ]
  },
  {
   "cell_type": "code",
   "execution_count": 36,
   "id": "739fdffe-895d-499d-a8e0-75e000e09c7e",
   "metadata": {},
   "outputs": [
    {
     "data": {
      "text/plain": [
       "price_group\n",
       "Low - $1-6            13843180\n",
       "Medium - $6-12        13365095\n",
       "High - $12-18          4877471\n",
       "Very High - $18-25      311103\n",
       "Name: count, dtype: int64"
      ]
     },
     "execution_count": 36,
     "metadata": {},
     "output_type": "execute_result"
    }
   ],
   "source": [
    "# Count the values in each price group\n",
    "df['price_group'].value_counts()"
   ]
  },
  {
   "cell_type": "code",
   "execution_count": 37,
   "id": "424dab37-e218-445d-9b14-c3754947e63f",
   "metadata": {},
   "outputs": [
    {
     "ename": "NameError",
     "evalue": "name 'price_group_counts' is not defined",
     "output_type": "error",
     "traceback": [
      "\u001b[1;31m---------------------------------------------------------------------------\u001b[0m",
      "\u001b[1;31mNameError\u001b[0m                                 Traceback (most recent call last)",
      "Cell \u001b[1;32mIn[37], line 3\u001b[0m\n\u001b[0;32m      1\u001b[0m \u001b[38;5;66;03m# Create a pie chart\u001b[39;00m\n\u001b[0;32m      2\u001b[0m plt\u001b[38;5;241m.\u001b[39mfigure(figsize\u001b[38;5;241m=\u001b[39m(\u001b[38;5;241m8\u001b[39m, \u001b[38;5;241m8\u001b[39m))\n\u001b[1;32m----> 3\u001b[0m price_group_counts\u001b[38;5;241m.\u001b[39mplot\u001b[38;5;241m.\u001b[39mpie(autopct\u001b[38;5;241m=\u001b[39m\u001b[38;5;124m'\u001b[39m\u001b[38;5;132;01m%1.1f\u001b[39;00m\u001b[38;5;132;01m%%\u001b[39;00m\u001b[38;5;124m'\u001b[39m, startangle\u001b[38;5;241m=\u001b[39m\u001b[38;5;241m140\u001b[39m, colors\u001b[38;5;241m=\u001b[39m[\u001b[38;5;124m'\u001b[39m\u001b[38;5;124m#ff9999\u001b[39m\u001b[38;5;124m'\u001b[39m,\u001b[38;5;124m'\u001b[39m\u001b[38;5;124m#66b3ff\u001b[39m\u001b[38;5;124m'\u001b[39m,\u001b[38;5;124m'\u001b[39m\u001b[38;5;124m#99ff99\u001b[39m\u001b[38;5;124m'\u001b[39m,\u001b[38;5;124m'\u001b[39m\u001b[38;5;124m#ffcc99\u001b[39m\u001b[38;5;124m'\u001b[39m])\n\u001b[0;32m      4\u001b[0m \u001b[38;5;66;03m# Add title and show the plot\u001b[39;00m\n\u001b[0;32m      5\u001b[0m plt\u001b[38;5;241m.\u001b[39mtitle(\u001b[38;5;124m'\u001b[39m\u001b[38;5;124mDistribution of Prices by Price Group\u001b[39m\u001b[38;5;124m'\u001b[39m)\n",
      "\u001b[1;31mNameError\u001b[0m: name 'price_group_counts' is not defined"
     ]
    },
    {
     "data": {
      "text/plain": [
       "<Figure size 800x800 with 0 Axes>"
      ]
     },
     "metadata": {},
     "output_type": "display_data"
    }
   ],
   "source": [
    "# Create a pie chart\n",
    "plt.figure(figsize=(8, 8))\n",
    "price_group_counts.plot.pie(autopct='%1.1f%%', startangle=140, colors=['#ff9999','#66b3ff','#99ff99','#ffcc99'])\n",
    "# Add title and show the plot\n",
    "plt.title('Distribution of Prices by Price Group')\n",
    "plt.ylabel('')  # Hide the y-label\n",
    "# Save the plot as a PNG file\n",
    "price_group_pie = os.path.join(path, '04 Analysis', 'Visualizations', 'price_group_pie.png')\n",
    "plt.savefig(price_bins_plot_path, bbox_inches='tight')\n",
    "plt.show()"
   ]
  },
  {
   "cell_type": "markdown",
   "id": "49c2c61f-a396-4a4a-bc72-2cb5a40450e1",
   "metadata": {},
   "source": [
    "### Top 5 products"
   ]
  },
  {
   "cell_type": "code",
   "execution_count": null,
   "id": "a2112e91-9236-4972-a930-7cf13cf569f7",
   "metadata": {},
   "outputs": [],
   "source": [
    "# Find the Top 5 Products Overall\n",
    "top_5_products = df['product_name'].value_counts().head(5)"
   ]
  },
  {
   "cell_type": "code",
   "execution_count": null,
   "id": "5eae48ac-641c-4e4b-8246-024fa4f43535",
   "metadata": {},
   "outputs": [],
   "source": [
    "# Step 2: Identify Customer Groups for Each Top Product\n",
    "customer_groups = df[df['product_name'].isin(top_5_products.index)].groupby(['product_name', 'age_group', 'income_group', 'region']).size().unstack(fill_value=0)"
   ]
  },
  {
   "cell_type": "code",
   "execution_count": null,
   "id": "9276b5f2-9f41-4985-9e07-c6cee0ad7f9a",
   "metadata": {},
   "outputs": [],
   "source": [
    "# Step 3: Plotting Customer Groups for Top 5 Products\n",
    "for product in top_5_products.index:\n",
    "    customer_group_distribution = customer_groups.loc[product]\n",
    "    customer_group_distribution.plot(kind='bar', figsize=(10, 6))\n",
    "    plt.title(f'Customer Groups for {product}')\n",
    "    plt.xlabel('Customer Group')\n",
    "    plt.ylabel('Number of Orders')\n",
    "    plt.xticks(rotation=45)"
   ]
  },
  {
   "cell_type": "code",
   "execution_count": null,
   "id": "4c09e1ba-2d5d-49e4-a9cc-17b51bf3f6e5",
   "metadata": {},
   "outputs": [],
   "source": [
    "top_5_products"
   ]
  },
  {
   "cell_type": "markdown",
   "id": "17ab07bd-424c-4dc9-bf9e-28b12f0e1e21",
   "metadata": {},
   "source": [
    "### Top 5 by total sales"
   ]
  },
  {
   "cell_type": "code",
   "execution_count": null,
   "id": "776409b5-5406-44c3-91a9-b0dffd0a26fb",
   "metadata": {},
   "outputs": [],
   "source": [
    "# Group by 'product_name' and sum up the 'prices' to get the total price amount for each product\n",
    "top_products = df.groupby('product_name')['prices'].sum()"
   ]
  },
  {
   "cell_type": "code",
   "execution_count": null,
   "id": "71c9f922-7035-4eb5-8d2a-2b3126b7a137",
   "metadata": {},
   "outputs": [],
   "source": [
    "# Sort the products by total price amount in descending order and select the top 5\n",
    "top_products.sort_values(ascending=False).head(5)"
   ]
  },
  {
   "cell_type": "code",
   "execution_count": null,
   "id": "03ead02b-a464-4486-bbc6-8bea406563e7",
   "metadata": {},
   "outputs": [],
   "source": []
  },
  {
   "cell_type": "markdown",
   "id": "bc93a081-a566-4902-89d9-53d233dffbd7",
   "metadata": {},
   "source": [
    "### Brand Loyalty (Frequency of Use)"
   ]
  },
  {
   "cell_type": "code",
   "execution_count": null,
   "id": "d5ec4e88-cb34-4d9a-bb81-fd84bf7bd5d2",
   "metadata": {},
   "outputs": [],
   "source": [
    "#count the frequency of each unique value in 'days_since_prior_order'\n",
    "frequency_counts = df['days_since_prior_order'].value_counts().sort_index()"
   ]
  },
  {
   "cell_type": "code",
   "execution_count": null,
   "id": "c0745ad6-6fce-44e3-9435-f76b26a72210",
   "metadata": {},
   "outputs": [],
   "source": [
    "# Create a bar chart for user frequency\n",
    "plt.figure(figsize=(10, 6))\n",
    "plt.bar(frequency_counts.index, frequency_counts, color='skyblue')\n",
    "plt.xlabel('Days Since Prior Order')\n",
    "plt.ylabel('Frequency')\n",
    "plt.title('How Often is the Gap Between Orders')\n",
    "plt.grid(axis='y')\n",
    "#exporting and saving image\n",
    "plt.savefig(os.path.join(path, '04 Analysis', 'Visualizations', 'bar_frequency_counts.png'))"
   ]
  },
  {
   "cell_type": "code",
   "execution_count": 38,
   "id": "2f291518-6c1d-4aea-aa73-13830613fecb",
   "metadata": {},
   "outputs": [
    {
     "data": {
      "text/plain": [
       "family_status\n",
       "married                             22754753\n",
       "single                               5325187\n",
       "divorced/widowed                     2771562\n",
       "living with parents and siblings     1550473\n",
       "Name: count, dtype: int64"
      ]
     },
     "execution_count": 38,
     "metadata": {},
     "output_type": "execute_result"
    }
   ],
   "source": [
    "df['family_status'].value_counts()"
   ]
  },
  {
   "cell_type": "code",
   "execution_count": null,
   "id": "5febfad8-db17-4d25-ade9-dcd7494c1a70",
   "metadata": {},
   "outputs": [],
   "source": []
  }
 ],
 "metadata": {
  "kernelspec": {
   "display_name": "Python 3 (ipykernel)",
   "language": "python",
   "name": "python3"
  },
  "language_info": {
   "codemirror_mode": {
    "name": "ipython",
    "version": 3
   },
   "file_extension": ".py",
   "mimetype": "text/x-python",
   "name": "python",
   "nbconvert_exporter": "python",
   "pygments_lexer": "ipython3",
   "version": "3.11.7"
  }
 },
 "nbformat": 4,
 "nbformat_minor": 5
}
