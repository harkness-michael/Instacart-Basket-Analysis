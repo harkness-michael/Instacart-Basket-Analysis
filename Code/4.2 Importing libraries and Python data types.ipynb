{
 "cells": [
  {
   "cell_type": "markdown",
   "id": "639c4043-e5af-4218-a19c-5612e5907293",
   "metadata": {},
   "source": [
    "#01. Importing Libraries"
   ]
  },
  {
   "cell_type": "code",
   "execution_count": 1,
   "id": "725dddcf-cebd-4725-b558-cc2a430f9f1a",
   "metadata": {},
   "outputs": [],
   "source": [
    "# Import libraries\n",
    "import pandas as pd\n",
    "import numpy as np\n",
    "import os"
   ]
  },
  {
   "cell_type": "markdown",
   "id": "e9817f5b-2b90-4f81-a9fb-e1a5f4359382",
   "metadata": {},
   "source": [
    "--imported numpy and pandas"
   ]
  },
  {
   "cell_type": "markdown",
   "id": "a0885071-f9b0-4658-aa7a-660d1ac38365",
   "metadata": {},
   "source": [
    "#02. Learning Data Types"
   ]
  },
  {
   "cell_type": "code",
   "execution_count": 3,
   "id": "0a6d4ae7-4616-44a9-8315-8d4d1a1b5f37",
   "metadata": {},
   "outputs": [],
   "source": [
    "x = 2"
   ]
  },
  {
   "cell_type": "code",
   "execution_count": 5,
   "id": "cc2dbd27-def2-4e19-8ff8-e56978efc482",
   "metadata": {},
   "outputs": [
    {
     "data": {
      "text/plain": [
       "2"
      ]
     },
     "execution_count": 5,
     "metadata": {},
     "output_type": "execute_result"
    }
   ],
   "source": [
    "x"
   ]
  },
  {
   "cell_type": "code",
   "execution_count": 7,
   "id": "4fddfddf-b77f-4eca-a02a-7faf336b1d3a",
   "metadata": {},
   "outputs": [
    {
     "name": "stdout",
     "output_type": "stream",
     "text": [
      "2\n"
     ]
    }
   ],
   "source": [
    "print(x)"
   ]
  },
  {
   "cell_type": "code",
   "execution_count": 9,
   "id": "467e8cf3-5c0c-4a78-9b80-17d258d93db4",
   "metadata": {},
   "outputs": [
    {
     "data": {
      "text/plain": [
       "int"
      ]
     },
     "execution_count": 9,
     "metadata": {},
     "output_type": "execute_result"
    }
   ],
   "source": [
    "type(x)"
   ]
  },
  {
   "cell_type": "code",
   "execution_count": 11,
   "id": "d0cf38be-2069-4fda-b29c-4f349bc8c82d",
   "metadata": {},
   "outputs": [],
   "source": [
    "y = 5.678"
   ]
  },
  {
   "cell_type": "code",
   "execution_count": 13,
   "id": "b3f00b38-fd1c-458d-b36a-cc1ba183e82c",
   "metadata": {},
   "outputs": [
    {
     "data": {
      "text/plain": [
       "float"
      ]
     },
     "execution_count": 13,
     "metadata": {},
     "output_type": "execute_result"
    }
   ],
   "source": [
    "type(y)"
   ]
  },
  {
   "cell_type": "code",
   "execution_count": 15,
   "id": "3228f047-6299-4cc7-a722-3163d6edd428",
   "metadata": {},
   "outputs": [],
   "source": [
    "z = 'Brazil'"
   ]
  },
  {
   "cell_type": "code",
   "execution_count": 17,
   "id": "37c86345-597f-4df5-8e89-f80616aacf0e",
   "metadata": {},
   "outputs": [
    {
     "data": {
      "text/plain": [
       "str"
      ]
     },
     "execution_count": 17,
     "metadata": {},
     "output_type": "execute_result"
    }
   ],
   "source": [
    "type(z)"
   ]
  },
  {
   "cell_type": "code",
   "execution_count": 19,
   "id": "d535f94e-3000-4583-8218-2e3589b72fa1",
   "metadata": {},
   "outputs": [
    {
     "data": {
      "text/plain": [
       "4"
      ]
     },
     "execution_count": 19,
     "metadata": {},
     "output_type": "execute_result"
    }
   ],
   "source": [
    "x+2"
   ]
  },
  {
   "cell_type": "code",
   "execution_count": 27,
   "id": "19e10245-6e53-4efb-8974-327c36d4fdfb",
   "metadata": {},
   "outputs": [],
   "source": [
    "a = 'oopsie '\n",
    "b = 'daisy'"
   ]
  },
  {
   "cell_type": "code",
   "execution_count": 23,
   "id": "6f374cf0-d39b-46cc-a647-41026d711e45",
   "metadata": {},
   "outputs": [
    {
     "data": {
      "text/plain": [
       "'oopsie'"
      ]
     },
     "execution_count": 23,
     "metadata": {},
     "output_type": "execute_result"
    }
   ],
   "source": [
    "a "
   ]
  },
  {
   "cell_type": "code",
   "execution_count": 31,
   "id": "049971c0-efa1-4286-891a-4985706bdc1f",
   "metadata": {},
   "outputs": [
    {
     "data": {
      "text/plain": [
       "'oopsie daisy'"
      ]
     },
     "execution_count": 31,
     "metadata": {},
     "output_type": "execute_result"
    }
   ],
   "source": [
    "a + b"
   ]
  },
  {
   "cell_type": "code",
   "execution_count": 33,
   "id": "febf5104-19f2-4800-9586-bf68b77b0773",
   "metadata": {},
   "outputs": [
    {
     "data": {
      "text/plain": [
       "False"
      ]
     },
     "execution_count": 33,
     "metadata": {},
     "output_type": "execute_result"
    }
   ],
   "source": [
    "x == y"
   ]
  },
  {
   "cell_type": "markdown",
   "id": "f66dd281-b246-4c70-bf47-a8579ed7b9cc",
   "metadata": {},
   "source": [
    "--playing with data types"
   ]
  },
  {
   "cell_type": "markdown",
   "id": "f6006094-3c8a-428f-baa0-94e873a8f0f8",
   "metadata": {},
   "source": [
    "7. THREE WAYS TO 100"
   ]
  },
  {
   "cell_type": "code",
   "execution_count": 37,
   "id": "80cefd7d-ef9c-4d3c-b938-b6ec720abe98",
   "metadata": {},
   "outputs": [],
   "source": [
    "x = 50"
   ]
  },
  {
   "cell_type": "code",
   "execution_count": 39,
   "id": "3f0edc0a-7942-42ce-add8-5583688943d4",
   "metadata": {},
   "outputs": [
    {
     "data": {
      "text/plain": [
       "100"
      ]
     },
     "execution_count": 39,
     "metadata": {},
     "output_type": "execute_result"
    }
   ],
   "source": [
    "x*2"
   ]
  },
  {
   "cell_type": "code",
   "execution_count": 41,
   "id": "c876c31e-d005-4c00-99d2-78d383c89a7c",
   "metadata": {},
   "outputs": [],
   "source": [
    "y = 75\n",
    "z = 25"
   ]
  },
  {
   "cell_type": "code",
   "execution_count": 43,
   "id": "b32f08ee-02f0-42ff-95b9-890182ac38bf",
   "metadata": {},
   "outputs": [
    {
     "data": {
      "text/plain": [
       "100"
      ]
     },
     "execution_count": 43,
     "metadata": {},
     "output_type": "execute_result"
    }
   ],
   "source": [
    "y + z"
   ]
  },
  {
   "cell_type": "code",
   "execution_count": 45,
   "id": "11a7f729-cfa2-4c1d-8a15-e957d5a025f3",
   "metadata": {},
   "outputs": [],
   "source": [
    "w = 150"
   ]
  },
  {
   "cell_type": "code",
   "execution_count": 47,
   "id": "d863988b-8bfe-4a12-8677-2cd7bb0d0218",
   "metadata": {},
   "outputs": [
    {
     "data": {
      "text/plain": [
       "100"
      ]
     },
     "execution_count": 47,
     "metadata": {},
     "output_type": "execute_result"
    }
   ],
   "source": [
    "w - x"
   ]
  },
  {
   "cell_type": "markdown",
   "id": "ef1eb766-a1a4-4ebf-8b6a-ee64ed750219",
   "metadata": {},
   "source": [
    "8. FLOATING POINT"
   ]
  },
  {
   "cell_type": "code",
   "execution_count": 49,
   "id": "1c4ea393-be92-42fe-913c-a1adf75a2869",
   "metadata": {},
   "outputs": [],
   "source": [
    "p = 2.45\n",
    "q = 6.789"
   ]
  },
  {
   "cell_type": "code",
   "execution_count": 51,
   "id": "d16e38e0-2207-4fb7-b408-7f0e88ad610c",
   "metadata": {},
   "outputs": [
    {
     "data": {
      "text/plain": [
       "2.771020408163265"
      ]
     },
     "execution_count": 51,
     "metadata": {},
     "output_type": "execute_result"
    }
   ],
   "source": [
    "q/p"
   ]
  },
  {
   "cell_type": "markdown",
   "id": "7ad0f599-b6bd-4ce3-9754-7e0bcaad0fb2",
   "metadata": {},
   "source": [
    "9. SHORT WORD"
   ]
  },
  {
   "cell_type": "code",
   "execution_count": 61,
   "id": "725badfd-7cc8-45df-abf8-7a27395a1708",
   "metadata": {},
   "outputs": [],
   "source": [
    "a = 'con'\n",
    "b = 'cat'\n",
    "c = 'en'\n",
    "d = 'ate'"
   ]
  },
  {
   "cell_type": "code",
   "execution_count": 63,
   "id": "2f7e02cc-f298-4659-a61b-e4b849d05349",
   "metadata": {},
   "outputs": [
    {
     "data": {
      "text/plain": [
       "'concatenate'"
      ]
     },
     "execution_count": 63,
     "metadata": {},
     "output_type": "execute_result"
    }
   ],
   "source": [
    "a+b+c+d"
   ]
  },
  {
   "cell_type": "markdown",
   "id": "4c746264-5dcd-4a42-a442-1c9dc88d2fbe",
   "metadata": {},
   "source": [
    "10. TWO SHORT SENTENCES"
   ]
  },
  {
   "cell_type": "code",
   "execution_count": 65,
   "id": "c6dd6910-6d3b-4edc-a827-9e334a451786",
   "metadata": {},
   "outputs": [],
   "source": [
    "e = 'the'\n",
    "f = 'food'"
   ]
  },
  {
   "cell_type": "code",
   "execution_count": 71,
   "id": "45528b0e-232a-4ed0-b59a-7f63d0d25dc2",
   "metadata": {},
   "outputs": [
    {
     "data": {
      "text/plain": [
       "'the cat ate food'"
      ]
     },
     "execution_count": 71,
     "metadata": {},
     "output_type": "execute_result"
    }
   ],
   "source": [
    "e+' '+b+' '+d+' '+f"
   ]
  },
  {
   "cell_type": "code",
   "execution_count": 73,
   "id": "051dcfc0-658e-437c-984d-5e3d3df0c840",
   "metadata": {},
   "outputs": [],
   "source": [
    "i = 'I '\n",
    "m = 'am '\n",
    "l = 'learning '\n",
    "t = 'to code!!'"
   ]
  },
  {
   "cell_type": "code",
   "execution_count": 75,
   "id": "e97e3b3c-da8a-4690-9198-022e80f3b7f3",
   "metadata": {},
   "outputs": [
    {
     "data": {
      "text/plain": [
       "'I am learning to code!!'"
      ]
     },
     "execution_count": 75,
     "metadata": {},
     "output_type": "execute_result"
    }
   ],
   "source": [
    "i+m+l+t"
   ]
  },
  {
   "cell_type": "markdown",
   "id": "328e56e3-ce44-44d6-8ade-4ce4839b79f0",
   "metadata": {},
   "source": [
    "BONUS"
   ]
  },
  {
   "cell_type": "code",
   "execution_count": 78,
   "id": "11f26625-4de5-48b9-80aa-3ec8c82e7e0a",
   "metadata": {},
   "outputs": [
    {
     "data": {
      "text/plain": [
       "'learning to code!!learning to code!!learning to code!!learning to code!!learning to code!!learning to code!!learning to code!!learning to code!!learning to code!!learning to code!!learning to code!!learning to code!!learning to code!!learning to code!!learning to code!!learning to code!!learning to code!!learning to code!!learning to code!!learning to code!!learning to code!!learning to code!!learning to code!!learning to code!!learning to code!!learning to code!!learning to code!!learning to code!!learning to code!!learning to code!!learning to code!!learning to code!!learning to code!!learning to code!!learning to code!!learning to code!!learning to code!!learning to code!!learning to code!!learning to code!!learning to code!!learning to code!!learning to code!!learning to code!!learning to code!!learning to code!!learning to code!!learning to code!!learning to code!!learning to code!!learning to code!!learning to code!!learning to code!!learning to code!!learning to code!!learning to code!!learning to code!!learning to code!!learning to code!!learning to code!!learning to code!!learning to code!!learning to code!!learning to code!!learning to code!!learning to code!!learning to code!!learning to code!!learning to code!!learning to code!!learning to code!!learning to code!!learning to code!!learning to code!!learning to code!!learning to code!!learning to code!!learning to code!!learning to code!!learning to code!!learning to code!!learning to code!!learning to code!!learning to code!!learning to code!!learning to code!!learning to code!!learning to code!!learning to code!!learning to code!!learning to code!!learning to code!!learning to code!!learning to code!!learning to code!!learning to code!!learning to code!!learning to code!!learning to code!!learning to code!!'"
      ]
     },
     "execution_count": 78,
     "metadata": {},
     "output_type": "execute_result"
    }
   ],
   "source": [
    "(l+t)*100"
   ]
  },
  {
   "cell_type": "code",
   "execution_count": null,
   "id": "8a82919b-9995-4213-8242-3a025345b2a1",
   "metadata": {},
   "outputs": [],
   "source": []
  }
 ],
 "metadata": {
  "kernelspec": {
   "display_name": "Python 3 (ipykernel)",
   "language": "python",
   "name": "python3"
  },
  "language_info": {
   "codemirror_mode": {
    "name": "ipython",
    "version": 3
   },
   "file_extension": ".py",
   "mimetype": "text/x-python",
   "name": "python",
   "nbconvert_exporter": "python",
   "pygments_lexer": "ipython3",
   "version": "3.11.7"
  }
 },
 "nbformat": 4,
 "nbformat_minor": 5
}
