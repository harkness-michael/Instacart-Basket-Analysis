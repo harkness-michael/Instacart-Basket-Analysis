{
 "cells": [
  {
   "cell_type": "markdown",
   "id": "64b6c6f7-8997-43f3-b13c-c22d94364ed1",
   "metadata": {},
   "source": [
    "# 4.7 Deriving Variables"
   ]
  },
  {
   "cell_type": "code",
   "execution_count": 2,
   "id": "22585c88-d1de-43a7-b7df-432d129adc66",
   "metadata": {},
   "outputs": [],
   "source": [
    "#importing libraries\n",
    "import pandas as pd\n",
    "import numpy as np\n",
    "import os"
   ]
  },
  {
   "cell_type": "code",
   "execution_count": 4,
   "id": "89e3c6eb-bc77-435b-b072-a0832f6dc695",
   "metadata": {},
   "outputs": [],
   "source": [
    "# establishing a path\n",
    "path = r'C:\\Users\\harkn\\OneDrive\\Desktop\\Tasks\\Data Immersion\\Instacart Basket Analysis'"
   ]
  },
  {
   "cell_type": "code",
   "execution_count": 6,
   "id": "e0a0f9e7-51b0-4f79-a02d-a4fd026dde1f",
   "metadata": {},
   "outputs": [],
   "source": [
    "# importing dataframe\n",
    "ords_prods_merge = pd.read_pickle(os.path.join(path, '02 Data', 'Prepared Data', 'orders_products_merged.pkl'))"
   ]
  },
  {
   "cell_type": "code",
   "execution_count": 8,
   "id": "c3f7e880-98cd-4da6-ab15-dc2b61e962ae",
   "metadata": {},
   "outputs": [
    {
     "data": {
      "text/plain": [
       "Index(['Unnamed: 0_x', 'product_id', 'product_name', 'aisle_id',\n",
       "       'department_id', 'prices', 'department', 'Unnamed: 0_y', 'order_id',\n",
       "       'user_id', 'eval_set', 'order_number', 'orders_day_of_week',\n",
       "       'order_hour_of_day', 'days_since_prior_order', 'add_to_cart_order',\n",
       "       'reordered', '_merge'],\n",
       "      dtype='object')"
      ]
     },
     "execution_count": 8,
     "metadata": {},
     "output_type": "execute_result"
    }
   ],
   "source": [
    "ords_prods_merge.columns"
   ]
  },
  {
   "cell_type": "code",
   "execution_count": 10,
   "id": "4b37bd55-fa20-4b3e-b005-a84e80b5c9d8",
   "metadata": {},
   "outputs": [],
   "source": [
    "#Reducing the dataframe to 1000000 rows\n",
    "df = ords_prods_merge[:1000000]"
   ]
  },
  {
   "cell_type": "markdown",
   "id": "11e75d7f-2c72-4be6-be81-66da4f733c61",
   "metadata": {},
   "source": [
    "### Creating variables"
   ]
  },
  {
   "cell_type": "code",
   "execution_count": 13,
   "id": "ec26d084-9f42-4fef-bda3-e82c36b6ed95",
   "metadata": {},
   "outputs": [],
   "source": [
    "#defining a 'price_labe' function\n",
    "def price_label(row):\n",
    "\n",
    "  if row['prices'] <= 5:\n",
    "    return 'Low-range product'\n",
    "  elif (row['prices'] > 5) and (row['prices'] <= 15):\n",
    "    return 'Mid-range product'\n",
    "  elif row['prices'] > 15:\n",
    "    return 'High range'\n",
    "  else: return 'Not enough data'"
   ]
  },
  {
   "cell_type": "code",
   "execution_count": 15,
   "id": "3413ea2d-8a73-4f78-91c8-26a9ea86caeb",
   "metadata": {},
   "outputs": [
    {
     "name": "stderr",
     "output_type": "stream",
     "text": [
      "C:\\Users\\harkn\\AppData\\Local\\Temp\\ipykernel_28012\\748875041.py:2: SettingWithCopyWarning: \n",
      "A value is trying to be set on a copy of a slice from a DataFrame.\n",
      "Try using .loc[row_indexer,col_indexer] = value instead\n",
      "\n",
      "See the caveats in the documentation: https://pandas.pydata.org/pandas-docs/stable/user_guide/indexing.html#returning-a-view-versus-a-copy\n",
      "  df['price_range'] = df.apply(price_label, axis=1)\n"
     ]
    }
   ],
   "source": [
    "#apply the function\n",
    "df['price_range'] = df.apply(price_label, axis=1)"
   ]
  },
  {
   "cell_type": "code",
   "execution_count": 16,
   "id": "00e1d918-b3e0-41d6-8581-b99bba71353c",
   "metadata": {},
   "outputs": [
    {
     "name": "stdout",
     "output_type": "stream",
     "text": [
      "price_range\n",
      "Mid-range product    652638\n",
      "Low-range product    338018\n",
      "High range             9344\n",
      "Name: count, dtype: int64\n"
     ]
    }
   ],
   "source": [
    "#finding value counts for price_range column\n",
    "price_label_counts = df['price_range'].value_counts(dropna=False)\n",
    "\n",
    "print(price_label_counts)"
   ]
  },
  {
   "cell_type": "code",
   "execution_count": 17,
   "id": "c698cbd7-9626-40b9-9413-2b1132f18e6e",
   "metadata": {},
   "outputs": [
    {
     "data": {
      "text/plain": [
       "24.5"
      ]
     },
     "execution_count": 17,
     "metadata": {},
     "output_type": "execute_result"
    }
   ],
   "source": [
    "#finding max value\n",
    "df['prices'].max()"
   ]
  },
  {
   "cell_type": "markdown",
   "id": "a709b6ac-40ce-4041-ab7d-e90be2b13a37",
   "metadata": {},
   "source": [
    "##### This does NOT match the coursework"
   ]
  },
  {
   "cell_type": "code",
   "execution_count": 19,
   "id": "c8d37ae8-045e-4368-98fd-25cb4d9ad203",
   "metadata": {},
   "outputs": [
    {
     "name": "stderr",
     "output_type": "stream",
     "text": [
      "C:\\Users\\harkn\\AppData\\Local\\Temp\\ipykernel_28012\\2371716247.py:2: SettingWithCopyWarning: \n",
      "A value is trying to be set on a copy of a slice from a DataFrame.\n",
      "Try using .loc[row_indexer,col_indexer] = value instead\n",
      "\n",
      "See the caveats in the documentation: https://pandas.pydata.org/pandas-docs/stable/user_guide/indexing.html#returning-a-view-versus-a-copy\n",
      "  df.loc[df['prices'] > 15, 'price_range_loc'] = 'High-range product'\n"
     ]
    }
   ],
   "source": [
    "#using the .loc() function\n",
    "df.loc[df['prices'] > 15, 'price_range_loc'] = 'High-range product'"
   ]
  },
  {
   "cell_type": "code",
   "execution_count": 20,
   "id": "bd5aa0a3-bfec-4dc4-842b-92d4296a7518",
   "metadata": {},
   "outputs": [],
   "source": [
    "df.loc[(df['prices'] <= 15) & (df['prices'] > 5), 'price_range_loc'] = 'Mid-range product' "
   ]
  },
  {
   "cell_type": "code",
   "execution_count": 21,
   "id": "bbc40200-cd48-4481-a5c4-3ae04aca44bd",
   "metadata": {},
   "outputs": [],
   "source": [
    "df.loc[df['prices'] <= 5, 'price_range_loc'] = 'Low-range product'"
   ]
  },
  {
   "cell_type": "code",
   "execution_count": 22,
   "id": "5ce5cabf-34b4-4b08-8202-1beeb8467088",
   "metadata": {},
   "outputs": [
    {
     "data": {
      "text/plain": [
       "price_range_loc\n",
       "Mid-range product     652638\n",
       "Low-range product     338018\n",
       "High-range product      9344\n",
       "Name: count, dtype: int64"
      ]
     },
     "execution_count": 22,
     "metadata": {},
     "output_type": "execute_result"
    }
   ],
   "source": [
    "df['price_range_loc'].value_counts(dropna = False)"
   ]
  },
  {
   "cell_type": "code",
   "execution_count": 23,
   "id": "955bf77d-6a1a-4776-93f4-7ed60f3d9b6e",
   "metadata": {},
   "outputs": [],
   "source": [
    "#using .loc() function on entire dataframe\n",
    "ords_prods_merge.loc[ords_prods_merge['prices'] > 15, 'price_range_loc'] = 'High-range product'"
   ]
  },
  {
   "cell_type": "code",
   "execution_count": 24,
   "id": "b34c6e22-8e9e-47ed-bbd8-a22c131935cd",
   "metadata": {},
   "outputs": [],
   "source": [
    "ords_prods_merge.loc[(ords_prods_merge['prices'] <= 15) & (df['prices'] > 5), 'price_range_loc'] = 'Mid-range product' "
   ]
  },
  {
   "cell_type": "code",
   "execution_count": 25,
   "id": "63ca244d-3040-4bf2-81aa-b4d272ba38ee",
   "metadata": {},
   "outputs": [],
   "source": [
    "ords_prods_merge.loc[ords_prods_merge['prices'] < 5, 'price_range_loc'] = 'Low-range product'"
   ]
  },
  {
   "cell_type": "code",
   "execution_count": 26,
   "id": "f19f8e7e-2894-42d0-b9e6-555b2450ac4e",
   "metadata": {},
   "outputs": [
    {
     "data": {
      "text/plain": [
       "price_range_loc\n",
       "NaN                   21434126\n",
       "Low-range product      9900417\n",
       "Mid-range product       652638\n",
       "High-range product      417678\n",
       "Name: count, dtype: int64"
      ]
     },
     "execution_count": 26,
     "metadata": {},
     "output_type": "execute_result"
    }
   ],
   "source": [
    "ords_prods_merge['price_range_loc'].value_counts(dropna = False)"
   ]
  },
  {
   "cell_type": "markdown",
   "id": "bd335af1-8af1-4806-958c-3ec092f67e8b",
   "metadata": {},
   "source": [
    "## For-loops"
   ]
  },
  {
   "cell_type": "code",
   "execution_count": 28,
   "id": "9196cbfe-ca6a-4f73-acfe-558720c2022b",
   "metadata": {},
   "outputs": [
    {
     "data": {
      "text/plain": [
       "orders_day_of_week\n",
       "0    6204182\n",
       "1    5660230\n",
       "6    4496490\n",
       "2    4213830\n",
       "5    4205791\n",
       "3    3840534\n",
       "4    3783802\n",
       "Name: count, dtype: int64"
      ]
     },
     "execution_count": 28,
     "metadata": {},
     "output_type": "execute_result"
    }
   ],
   "source": [
    "#frequency by days of the week\n",
    "ords_prods_merge['orders_day_of_week'].value_counts(dropna = False)"
   ]
  },
  {
   "cell_type": "code",
   "execution_count": 29,
   "id": "b84aca47-8461-4733-a310-e01da9c22231",
   "metadata": {},
   "outputs": [],
   "source": [
    "#categorize busy days of the week\n",
    "result = []\n",
    "\n",
    "for value in ords_prods_merge[\"orders_day_of_week\"]:\n",
    "  if value == 0:\n",
    "    result.append(\"Busiest day\")\n",
    "  elif value == 4:\n",
    "    result.append(\"Least busy\")\n",
    "  else:\n",
    "    result.append(\"Regularly busy\")"
   ]
  },
  {
   "cell_type": "code",
   "execution_count": 31,
   "id": "bfe2116e-5d57-494a-a088-31fe796b0da6",
   "metadata": {},
   "outputs": [],
   "source": [
    "ords_prods_merge['busiest_day'] = result"
   ]
  },
  {
   "cell_type": "code",
   "execution_count": 38,
   "id": "1443cc74-a095-491e-bd5c-2bdd49e31743",
   "metadata": {},
   "outputs": [
    {
     "data": {
      "text/plain": [
       "busiest_day\n",
       "Regularly busy    22416875\n",
       "Busiest day        6204182\n",
       "Least busy         3783802\n",
       "Name: count, dtype: int64"
      ]
     },
     "execution_count": 38,
     "metadata": {},
     "output_type": "execute_result"
    }
   ],
   "source": [
    "ords_prods_merge['busiest_day'].value_counts(dropna = False)"
   ]
  },
  {
   "cell_type": "markdown",
   "id": "3bae7462-b275-43f8-8be2-23a228b7c19f",
   "metadata": {},
   "source": [
    "# TASK"
   ]
  },
  {
   "cell_type": "markdown",
   "id": "991392f1-f160-4f02-9243-fba04c780ec6",
   "metadata": {},
   "source": [
    "### #2"
   ]
  },
  {
   "cell_type": "code",
   "execution_count": 41,
   "id": "21c5e2de-82a0-450f-9d34-3b854d34a33a",
   "metadata": {},
   "outputs": [
    {
     "data": {
      "text/plain": [
       "orders_day_of_week\n",
       "0    6204182\n",
       "1    5660230\n",
       "6    4496490\n",
       "2    4213830\n",
       "5    4205791\n",
       "3    3840534\n",
       "4    3783802\n",
       "Name: count, dtype: int64"
      ]
     },
     "execution_count": 41,
     "metadata": {},
     "output_type": "execute_result"
    }
   ],
   "source": [
    "#frequency by days of the week\n",
    "ords_prods_merge['orders_day_of_week'].value_counts(dropna = False)"
   ]
  },
  {
   "cell_type": "code",
   "execution_count": 42,
   "id": "3a6b86db-2109-40a6-9403-017872071c2a",
   "metadata": {},
   "outputs": [],
   "source": [
    "#categorize busiest and slowest two days of the week\n",
    "result = []\n",
    "\n",
    "for value in ords_prods_merge[\"orders_day_of_week\"]:\n",
    "  if value == 0:\n",
    "    result.append(\"Busiest day\")\n",
    "  elif value == 1:\n",
    "    result.append(\"Second busiest day\")\n",
    "  elif value == 4:\n",
    "    result.append(\"Slowest day\")\n",
    "  elif value == 3:\n",
    "    result.append(\"Second slowest day\")\n",
    "  else:\n",
    "    result.append(\"Regularly busy day\")"
   ]
  },
  {
   "cell_type": "code",
   "execution_count": 43,
   "id": "50c3f7ad-aa61-47af-a358-1af3498da0d7",
   "metadata": {},
   "outputs": [],
   "source": [
    "#'busiest days' column\n",
    "ords_prods_merge['busiest_days'] = result"
   ]
  },
  {
   "cell_type": "markdown",
   "id": "ef78f394-7411-430d-9d28-4d9e159ac44a",
   "metadata": {},
   "source": [
    "### #3"
   ]
  },
  {
   "cell_type": "code",
   "execution_count": 46,
   "id": "f3e82d65-8e52-43b3-ba8c-f2bf08ce1b10",
   "metadata": {},
   "outputs": [
    {
     "data": {
      "text/plain": [
       "busiest_days\n",
       "Regularly busy day    12916111\n",
       "Busiest day            6204182\n",
       "Second busiest day     5660230\n",
       "Second slowest day     3840534\n",
       "Slowest day            3783802\n",
       "Name: count, dtype: int64"
      ]
     },
     "execution_count": 46,
     "metadata": {},
     "output_type": "execute_result"
    }
   ],
   "source": [
    "#value counts 'busiest_days'\n",
    "ords_prods_merge['busiest_days'].value_counts(dropna = False)"
   ]
  },
  {
   "cell_type": "markdown",
   "id": "0a572298-167b-4f3e-b41b-ad753c83c5b5",
   "metadata": {},
   "source": [
    "### #4"
   ]
  },
  {
   "cell_type": "code",
   "execution_count": 48,
   "id": "e4850f22-884f-4a9b-9ccf-3e10a3bd0734",
   "metadata": {},
   "outputs": [],
   "source": [
    "#calculate the number of orders for each hour of the day\n",
    "order_counts = ords_prods_merge['order_hour_of_day'].value_counts()"
   ]
  },
  {
   "cell_type": "code",
   "execution_count": 49,
   "id": "c360234d-1c04-4ec7-a546-6852242e3082",
   "metadata": {},
   "outputs": [
    {
     "data": {
      "text/plain": [
       "order_hour_of_day\n",
       "10    2761760\n",
       "11    2736140\n",
       "14    2689136\n",
       "15    2662144\n",
       "13    2660954\n",
       "12    2618532\n",
       "16    2535202\n",
       "9     2454203\n",
       "17    2087654\n",
       "8     1718118\n",
       "18    1636502\n",
       "19    1258305\n",
       "20     976156\n",
       "7      891054\n",
       "21     795637\n",
       "22     634225\n",
       "23     402316\n",
       "6      290493\n",
       "0      218769\n",
       "1      115700\n",
       "5       87961\n",
       "2       69375\n",
       "4       53242\n",
       "3       51281\n",
       "Name: count, dtype: int64"
      ]
     },
     "execution_count": 49,
     "metadata": {},
     "output_type": "execute_result"
    }
   ],
   "source": [
    "order_counts"
   ]
  },
  {
   "cell_type": "code",
   "execution_count": 50,
   "id": "734453e1-8704-4651-a0ec-7b750e5c7282",
   "metadata": {},
   "outputs": [],
   "source": [
    "#create thresholds for 'Most orders', 'Average orders', and 'Fewest orders'\n",
    "most_orders_threshold = order_counts.quantile(0.67)\n",
    "fewest_orders_threshold = order_counts.quantile(0.33)"
   ]
  },
  {
   "cell_type": "code",
   "execution_count": 51,
   "id": "d229dc7a-b2d8-4ad2-a949-34f044707bbc",
   "metadata": {},
   "outputs": [],
   "source": [
    "#function to label the periods of the day\n",
    "def label_busiest_period(hour):\n",
    "    if order_counts[hour] > most_orders_threshold:\n",
    "        return 'Most orders'\n",
    "    elif order_counts[hour] < fewest_orders_threshold:\n",
    "        return 'Fewest orders'\n",
    "    else:\n",
    "        return 'Average orders'"
   ]
  },
  {
   "cell_type": "code",
   "execution_count": 52,
   "id": "12316997-99ba-4067-9416-51b25ed8799c",
   "metadata": {},
   "outputs": [],
   "source": [
    "#create the 'busiest_period_of_day' column\n",
    "ords_prods_merge['busiest_period_of_day'] = ords_prods_merge['order_hour_of_day'].apply(label_busiest_period)"
   ]
  },
  {
   "cell_type": "code",
   "execution_count": 53,
   "id": "52e3f7a8-1cc6-4e6a-a82d-818fe1f5baa0",
   "metadata": {},
   "outputs": [
    {
     "data": {
      "text/html": [
       "<div>\n",
       "<style scoped>\n",
       "    .dataframe tbody tr th:only-of-type {\n",
       "        vertical-align: middle;\n",
       "    }\n",
       "\n",
       "    .dataframe tbody tr th {\n",
       "        vertical-align: top;\n",
       "    }\n",
       "\n",
       "    .dataframe thead th {\n",
       "        text-align: right;\n",
       "    }\n",
       "</style>\n",
       "<table border=\"1\" class=\"dataframe\">\n",
       "  <thead>\n",
       "    <tr style=\"text-align: right;\">\n",
       "      <th></th>\n",
       "      <th>order_hour_of_day</th>\n",
       "      <th>busiest_period_of_day</th>\n",
       "    </tr>\n",
       "  </thead>\n",
       "  <tbody>\n",
       "    <tr>\n",
       "      <th>0</th>\n",
       "      <td>11</td>\n",
       "      <td>Most orders</td>\n",
       "    </tr>\n",
       "    <tr>\n",
       "      <th>1</th>\n",
       "      <td>17</td>\n",
       "      <td>Average orders</td>\n",
       "    </tr>\n",
       "    <tr>\n",
       "      <th>2</th>\n",
       "      <td>21</td>\n",
       "      <td>Average orders</td>\n",
       "    </tr>\n",
       "    <tr>\n",
       "      <th>3</th>\n",
       "      <td>13</td>\n",
       "      <td>Most orders</td>\n",
       "    </tr>\n",
       "    <tr>\n",
       "      <th>4</th>\n",
       "      <td>17</td>\n",
       "      <td>Average orders</td>\n",
       "    </tr>\n",
       "  </tbody>\n",
       "</table>\n",
       "</div>"
      ],
      "text/plain": [
       "   order_hour_of_day busiest_period_of_day\n",
       "0                 11           Most orders\n",
       "1                 17        Average orders\n",
       "2                 21        Average orders\n",
       "3                 13           Most orders\n",
       "4                 17        Average orders"
      ]
     },
     "execution_count": 53,
     "metadata": {},
     "output_type": "execute_result"
    }
   ],
   "source": [
    "#check results\n",
    "ords_prods_merge[['order_hour_of_day', 'busiest_period_of_day']].head()"
   ]
  },
  {
   "cell_type": "markdown",
   "id": "9133f2f4-97f9-411e-a3a7-23255d56888d",
   "metadata": {},
   "source": [
    "### #5"
   ]
  },
  {
   "cell_type": "code",
   "execution_count": 55,
   "id": "f8408b9a-fde8-4338-8a20-d623e0ef60ab",
   "metadata": {},
   "outputs": [
    {
     "data": {
      "text/plain": [
       "busiest_period_of_day\n",
       "Most orders       21118071\n",
       "Average orders     9997651\n",
       "Fewest orders      1289137\n",
       "Name: count, dtype: int64"
      ]
     },
     "execution_count": 55,
     "metadata": {},
     "output_type": "execute_result"
    }
   ],
   "source": [
    "#value counts of new column\n",
    "ords_prods_merge['busiest_period_of_day'].value_counts(dropna = False)"
   ]
  },
  {
   "cell_type": "markdown",
   "id": "faf8963a-2c2e-42e5-bd0a-6e6cbd143287",
   "metadata": {},
   "source": [
    "### #7. Export to Pickle"
   ]
  },
  {
   "cell_type": "code",
   "execution_count": 57,
   "id": "129d46d1-0f14-4c59-8d1b-fcd9a745bc47",
   "metadata": {},
   "outputs": [],
   "source": [
    "#export data to pickle\n",
    "ords_prods_merge.to_pickle(os.path.join(path, '02 Data','Prepared Data', '4.7 ords_prods_merge.pkl'))"
   ]
  },
  {
   "cell_type": "code",
   "execution_count": null,
   "id": "e0816ad3-bace-4210-baa5-4fcfdd6fc1c6",
   "metadata": {},
   "outputs": [],
   "source": []
  }
 ],
 "metadata": {
  "kernelspec": {
   "display_name": "Python 3 (ipykernel)",
   "language": "python",
   "name": "python3"
  },
  "language_info": {
   "codemirror_mode": {
    "name": "ipython",
    "version": 3
   },
   "file_extension": ".py",
   "mimetype": "text/x-python",
   "name": "python",
   "nbconvert_exporter": "python",
   "pygments_lexer": "ipython3",
   "version": "3.11.7"
  }
 },
 "nbformat": 4,
 "nbformat_minor": 5
}
