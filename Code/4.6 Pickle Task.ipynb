{
 "cells": [
  {
   "cell_type": "markdown",
   "id": "50f376fb-5a6f-426e-b603-7afa7dff0c9f",
   "metadata": {},
   "source": [
    "# 4.6 Pickle Task"
   ]
  },
  {
   "cell_type": "code",
   "execution_count": 4,
   "id": "67570679-1225-4602-837e-f9e1a141ca18",
   "metadata": {},
   "outputs": [],
   "source": [
    "#importing libraries\n",
    "import pandas as pd\n",
    "import numpy as np\n",
    "import os"
   ]
  },
  {
   "cell_type": "code",
   "execution_count": 6,
   "id": "ba29677c-a7b3-4aa9-91ac-63bb296a31d8",
   "metadata": {},
   "outputs": [],
   "source": [
    "#establishing a path\n",
    "path = r'C:\\Users\\harkn\\OneDrive\\Desktop\\Tasks\\Data Immersion\\Instacart Basket Analysis'"
   ]
  },
  {
   "cell_type": "code",
   "execution_count": 8,
   "id": "b0457f2c-8f51-4089-8371-194e871994fb",
   "metadata": {},
   "outputs": [],
   "source": [
    "#importing pickle\n",
    "df_ords_prods_combined = pd.read_pickle(os.path.join(path, '02 Data', 'Prepared Data', 'orders_products_combined.pkl'))"
   ]
  },
  {
   "cell_type": "code",
   "execution_count": 9,
   "id": "ff83b165-0097-44d1-b920-47f0da514ac9",
   "metadata": {},
   "outputs": [
    {
     "data": {
      "text/plain": [
       "(32434489, 12)"
      ]
     },
     "execution_count": 9,
     "metadata": {},
     "output_type": "execute_result"
    }
   ],
   "source": [
    "#checking shape\n",
    "df_ords_prods_combined.shape"
   ]
  },
  {
   "cell_type": "code",
   "execution_count": 10,
   "id": "6fdbdf8e-0138-48be-8bb6-5835db1d5de6",
   "metadata": {},
   "outputs": [],
   "source": [
    "#importing prods dataframe\n",
    "df_prods = pd.read_csv(os.path.join(path, '02 Data', 'Prepared Data', 'products_checked_with_depts.csv'), index_col = False)"
   ]
  },
  {
   "cell_type": "code",
   "execution_count": 11,
   "id": "44cf9c6b-824d-4eb5-9f64-1794dcdf33a0",
   "metadata": {},
   "outputs": [],
   "source": [
    "#merge dataframes\n",
    "df_ords_prods_merge = df_prods.merge(df_ords_prods_combined, on = 'product_id')"
   ]
  },
  {
   "cell_type": "code",
   "execution_count": 15,
   "id": "6568034e-1fbe-490f-9c39-1bfb8fc7c3e8",
   "metadata": {},
   "outputs": [],
   "source": [
    "#export to pickle\n",
    "df_ords_prods_merge.to_pickle(os.path.join(path, '02 Data','Prepared Data', 'orders_products_merged.pkl'))"
   ]
  },
  {
   "cell_type": "code",
   "execution_count": 18,
   "id": "c0b75956-7aab-48f8-9152-6bbdc575e545",
   "metadata": {},
   "outputs": [
    {
     "data": {
      "text/plain": [
       "Index(['Unnamed: 0_x', 'product_id', 'product_name', 'aisle_id',\n",
       "       'department_id', 'prices', 'department', 'Unnamed: 0_y', 'order_id',\n",
       "       'user_id', 'eval_set', 'order_number', 'orders_day_of_week',\n",
       "       'order_hour_of_day', 'days_since_prior_order', 'add_to_cart_order',\n",
       "       'reordered', '_merge'],\n",
       "      dtype='object')"
      ]
     },
     "execution_count": 18,
     "metadata": {},
     "output_type": "execute_result"
    }
   ],
   "source": [
    "df_ords_prods_merge.columns"
   ]
  },
  {
   "cell_type": "code",
   "execution_count": null,
   "id": "dce5bcbc-fd01-49f9-9a3a-5dbae7b135ec",
   "metadata": {},
   "outputs": [],
   "source": []
  }
 ],
 "metadata": {
  "kernelspec": {
   "display_name": "Python 3 (ipykernel)",
   "language": "python",
   "name": "python3"
  },
  "language_info": {
   "codemirror_mode": {
    "name": "ipython",
    "version": 3
   },
   "file_extension": ".py",
   "mimetype": "text/x-python",
   "name": "python",
   "nbconvert_exporter": "python",
   "pygments_lexer": "ipython3",
   "version": "3.11.7"
  }
 },
 "nbformat": 4,
 "nbformat_minor": 5
}
